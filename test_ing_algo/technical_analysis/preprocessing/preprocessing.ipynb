{
 "cells": [
  {
   "cell_type": "markdown",
   "metadata": {},
   "source": [
    "# Notebook to perform basic data preprocessing and cleaning\n",
    "Mainly used for missing number detection, dataframe manipulation and indexing, and creating possible new practical .csv files."
   ]
  },
  {
   "cell_type": "code",
   "execution_count": 3,
   "metadata": {},
   "outputs": [],
   "source": [
    "# Imports\n",
    "import numpy as np\n",
    "import pandas as pd\n",
    "from local_paths import local_paths\n",
    "from test_ing_algo.common.constants import keys"
   ]
  },
  {
   "cell_type": "code",
   "execution_count": 11,
   "metadata": {},
   "outputs": [],
   "source": [
    "# Data loading\n",
    "heart_rate_df = pd.read_csv(local_paths.HEART_RATE_CSV)\n",
    "interruptions_df = pd.read_csv(local_paths.INTERRUPTIONS_CSV)\n",
    "locations_df = pd.read_csv(local_paths.LOCATIONS_CSV)\n",
    "onskin_df = pd.read_csv(local_paths.ONSKIN_CSV)\n",
    "all_df = [heart_rate_df, interruptions_df, locations_df, onskin_df]"
   ]
  },
  {
   "cell_type": "code",
   "execution_count": 13,
   "metadata": {},
   "outputs": [
    {
     "name": "stdout",
     "output_type": "stream",
     "text": [
      "Index(['time', 'heart_rate', 'cnfs'], dtype='object')\n",
      "Index(['time', 'any_motion', 'high_g'], dtype='object')\n",
      "Index(['time', 'x', 'y'], dtype='object')\n",
      "Index(['time', 'onskin'], dtype='object')\n"
     ]
    }
   ],
   "source": [
    "# Check basic feature information\n",
    "for df in all_df:\n",
    "    print(df.columns)"
   ]
  },
  {
   "cell_type": "markdown",
   "metadata": {},
   "source": [
    "As stated in the problem a set of time-series data for the desired features is provided."
   ]
  },
  {
   "cell_type": "code",
   "execution_count": 14,
   "metadata": {},
   "outputs": [
    {
     "name": "stdout",
     "output_type": "stream",
     "text": [
      "(76155, 3)\n",
      "(19148, 3)\n",
      "(55672, 3)\n",
      "(19148, 2)\n"
     ]
    }
   ],
   "source": [
    "# Compare dataframe shapes\n",
    "for df in all_df:\n",
    "    print(df.shape)"
   ]
  },
  {
   "cell_type": "markdown",
   "metadata": {},
   "source": [
    "There is a very clear mismatch between the provided data depending on the feature. This may be caused by \n",
    "different resampling rates, different analyzed moments in the day, missing data or a number of other possibilities.\n",
    "\n",
    "Next steps:\n",
    "- Get a basic feel of how the data is structured\n",
    "- Search for missing values\n",
    "- Bind the timeframes of each df"
   ]
  },
  {
   "cell_type": "code",
   "execution_count": 18,
   "metadata": {},
   "outputs": [
    {
     "name": "stdout",
     "output_type": "stream",
     "text": [
      "                      time  heart_rate  cnfs\n",
      "0  2025-01-22 23:00:00.000          60    50\n",
      "                          time  heart_rate  cnfs\n",
      "76154  2025-01-21 23:00:03.000          59    50\n",
      "\n",
      "                  time  any_motion  high_g\n",
      "0  2025-01-22 23:00:00           0      10\n",
      "                      time  any_motion  high_g\n",
      "19147  2025-01-21 23:00:00           1      12\n",
      "\n",
      "                      time  x  y\n",
      "0  2025-01-22 23:00:00.000  0  0\n",
      "                          time     x    y\n",
      "55671  2025-01-21 23:00:03.000 -1068  283\n",
      "\n",
      "                  time  onskin\n",
      "0  2025-01-22 23:00:00       3\n",
      "                      time  onskin\n",
      "19147  2025-01-21 23:00:00       3\n",
      "\n"
     ]
    }
   ],
   "source": [
    "for df in all_df:\n",
    "    print(df.head(1))\n",
    "    print(df.tail(1))\n",
    "    print()"
   ]
  },
  {
   "cell_type": "markdown",
   "metadata": {},
   "source": [
    "All of the features seem to start and end approximately at the same time, with valid values. One can conclude that, as stated in the problem, the data is intended to be bound to to January the 22nd, in the UTC+1 timezone (e.g. \"Europe/Madrid\" timezone).\n",
    "\n",
    "One can assume that the different amounts of points depending on the feature depend mainly on the sampling frequency, or missing data. A simple plot of the time-series may help in getting a grasp of the actual case."
   ]
  },
  {
   "cell_type": "code",
   "execution_count": null,
   "metadata": {},
   "outputs": [],
   "source": [
    "# Set date as index for all dataframes and order them\n",
    "hr_df = heart_rate_df.set_index(keys.TIME)\n",
    "hr_df.index = pd.to_datetime(hr_df.index)\n",
    "hr_df = hr_df.sort_index()\n"
   ]
  },
  {
   "cell_type": "code",
   "execution_count": null,
   "metadata": {},
   "outputs": [],
   "source": []
  }
 ],
 "metadata": {
  "kernelspec": {
   "display_name": "env_test_bio",
   "language": "python",
   "name": "python3"
  },
  "language_info": {
   "codemirror_mode": {
    "name": "ipython",
    "version": 3
   },
   "file_extension": ".py",
   "mimetype": "text/x-python",
   "name": "python",
   "nbconvert_exporter": "python",
   "pygments_lexer": "ipython3",
   "version": "3.12.9"
  }
 },
 "nbformat": 4,
 "nbformat_minor": 2
}
